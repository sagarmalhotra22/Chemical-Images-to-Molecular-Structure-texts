{
 "cells": [
  {
   "cell_type": "code",
   "execution_count": 1,
   "id": "6f8baec1",
   "metadata": {},
   "outputs": [],
   "source": [
    "import os\n",
    "import random\n",
    "import numpy as np\n",
    "import pandas as pd\n",
    "import matplotlib.pyplot as plot\n",
    "from tqdm.notebook import tqdm\n",
    "from sklearn.model_selection import train_test_split\n",
    "import tensorflow as tf\n",
    "import keras\n",
    "from tensorflow.keras.optimizers import Adam\n",
    "from tensorflow.keras.experimental import CosineDecay\n",
    "from tensorflow.keras.callbacks import ModelCheckpoint\n",
    "from tensorflow.keras.models import Sequential, load_model\n",
    "from tensorflow.keras.preprocessing.image import ImageDataGenerator\n",
    "from tensorflow.keras.layers import GlobalAveragePooling2D, Dense, Conv2D, BatchNormalization, MaxPool2D\n",
    "import Levenshtein"
   ]
  },
  {
   "cell_type": "code",
   "execution_count": 2,
   "id": "808a6e88",
   "metadata": {},
   "outputs": [
    {
     "name": "stdout",
     "output_type": "stream",
     "text": [
      "Enabling notebook extension jupyter-js-widgets/extension...\r\n",
      "      - Validating: \u001b[32mOK\u001b[0m\r\n"
     ]
    }
   ],
   "source": [
    "!jupyter nbextension enable --py widgetsnbextension"
   ]
  },
  {
   "cell_type": "code",
   "execution_count": 3,
   "id": "671ab010",
   "metadata": {},
   "outputs": [],
   "source": [
    "class configuration:\n",
    "    seed = 12345\n",
    "    batch_size = 32\n",
    "    init_lr = 1e-3\n",
    "    img_size = 100\n",
    "    class_mode = \"raw\"\n",
    "    n_CLASS = 12\n",
    "    interpolation = \"nearest\"\n",
    "    color_mode = \"grayscale\"\n",
    "    shuffle = True\n",
    "    num_data = 1000\n",
    "    test_size = 0.05"
   ]
  },
  {
   "cell_type": "markdown",
   "id": "3aa46e88",
   "metadata": {},
   "source": [
    "Setting configurations for model and preprocessing"
   ]
  },
  {
   "cell_type": "code",
   "execution_count": 4,
   "id": "e1e8dce8",
   "metadata": {},
   "outputs": [],
   "source": [
    "train_dir = \"../input/bms-molecular-translation/train\"\n",
    "arranged_data_path = \"../input/bms-molecular-translation/arranged_bms_train_labels.csv\""
   ]
  },
  {
   "cell_type": "code",
   "execution_count": 5,
   "id": "d23a348c",
   "metadata": {},
   "outputs": [],
   "source": [
    "arranged_data = pd.read_csv(arranged_data_path)"
   ]
  },
  {
   "cell_type": "code",
   "execution_count": 6,
   "id": "f09f777e",
   "metadata": {},
   "outputs": [],
   "source": [
    "# seed\n",
    "tf.random.set_seed(configuration.seed)\n",
    "np.random.seed(configuration.seed)\n",
    "random.seed(configuration.seed)\n",
    "os.environ[\"PYTHONHASHSEED\"] = str(configuration.seed)"
   ]
  },
  {
   "cell_type": "code",
   "execution_count": 7,
   "id": "23b1304a",
   "metadata": {},
   "outputs": [],
   "source": [
    "# I was truncate data to 1000000 due to the calculation time, but more data would be increase your accuracy\n",
    "list_of_atom = [\"C\", \"H\", \"B\", \"Br\", \"Cl\", \"F\", \"I\", \"N\", \"O\", \"P\", \"S\", \"Si\"]\n",
    "data = arranged_data[[\"image_path\", *list_of_atom]].copy()\n",
    "data = data.sample(n=configuration.num_data, random_state=configuration.seed)\n",
    "data_1 = arranged_data[[\"image_path\", *list_of_atom]].copy()\n",
    "data_1 = data_1.sample(n=2000, random_state=configuration.seed)"
   ]
  },
  {
   "cell_type": "code",
   "execution_count": 8,
   "id": "a505ecaf",
   "metadata": {},
   "outputs": [
    {
     "name": "stdout",
     "output_type": "stream",
     "text": [
      "(1000, 13)\n",
      "                                               image_path   C   H  B  Br  Cl  \\\n",
      "902574  ../input/bms-molecular-translation/train/5/f/3...  32  61  0   0   0   \n",
      "74658   ../input/bms-molecular-translation/train/0/7/d...  15  11  0   0   0   \n",
      "\n",
      "        F  I  N  O  P  S  Si  \n",
      "902574  0  1  0  4  0  0   2  \n",
      "74658   4  0  1  2  0  0   0  \n",
      "(2000, 13)\n",
      "                                               image_path   C   H  B  Br  Cl  \\\n",
      "902574  ../input/bms-molecular-translation/train/5/f/3...  32  61  0   0   0   \n",
      "74658   ../input/bms-molecular-translation/train/0/7/d...  15  11  0   0   0   \n",
      "\n",
      "        F  I  N  O  P  S  Si  \n",
      "902574  0  1  0  4  0  0   2  \n",
      "74658   4  0  1  2  0  0   0  \n"
     ]
    }
   ],
   "source": [
    "print(data.shape)\n",
    "print(data.head(2))\n",
    "print(data_1.shape)\n",
    "print(data_1.head(2))"
   ]
  },
  {
   "cell_type": "markdown",
   "id": "31ea4916",
   "metadata": {},
   "source": [
    "Creating two dataframes, one with 1000 sample points, other with 2000 sample points, for hyperparameter tuning and evaluating model performance on the basis of training dataset size."
   ]
  },
  {
   "cell_type": "code",
   "execution_count": 9,
   "id": "c1681d66",
   "metadata": {},
   "outputs": [],
   "source": [
    "def transform_function(image):\n",
    "    return image / 255."
   ]
  },
  {
   "cell_type": "code",
   "execution_count": 10,
   "id": "795cbbc0",
   "metadata": {},
   "outputs": [],
   "source": [
    "training_data = ImageDataGenerator(preprocessing_function = transform_function)\n",
    "validation_data = ImageDataGenerator(preprocessing_function = transform_function)"
   ]
  },
  {
   "cell_type": "code",
   "execution_count": 11,
   "id": "ccbbe7a9",
   "metadata": {},
   "outputs": [],
   "source": [
    "def generate_image_dataset(d):\n",
    "    dataset = training_data.flow_from_dataframe(d, \n",
    "                                                directory = None,\n",
    "                                                seed = configuration.seed,\n",
    "                                                x_col = \"image_path\",\n",
    "                                                y_col = list_of_atom,\n",
    "                                                target_size = (configuration.img_size, configuration.img_size),\n",
    "                                                class_mode = configuration.class_mode,\n",
    "                                                interpolation = configuration.interpolation,\n",
    "                                                shuffle = configuration.shuffle,\n",
    "                                                color_mode = configuration.color_mode,\n",
    "                                                batch_size = configuration.batch_size)\n",
    "    return dataset"
   ]
  },
  {
   "cell_type": "markdown",
   "id": "fde1076e",
   "metadata": {},
   "source": [
    "Method to generate Image data for augmentation of image data in realtime. ImageDataGenerator is a package that helps transform and preprocess training images. Here we transform the image by resizing it and bringing it to the same color gradient."
   ]
  },
  {
   "cell_type": "code",
   "execution_count": 12,
   "id": "1aae7730",
   "metadata": {},
   "outputs": [],
   "source": [
    "train, validation = train_test_split(data, test_size=configuration.test_size, random_state=configuration.seed)\n",
    "train_1, validation_1 = train_test_split(data_1, test_size=configuration.test_size, random_state=configuration.seed)"
   ]
  },
  {
   "cell_type": "markdown",
   "id": "930fa6ca",
   "metadata": {},
   "source": [
    "Splitting data for training and validation"
   ]
  },
  {
   "cell_type": "code",
   "execution_count": 13,
   "id": "e954a395",
   "metadata": {},
   "outputs": [
    {
     "name": "stdout",
     "output_type": "stream",
     "text": [
      "(950, 13)\n",
      "(50, 13)\n",
      "(1900, 13)\n",
      "(100, 13)\n"
     ]
    }
   ],
   "source": [
    "print(train.shape)\n",
    "print(validation.shape)\n",
    "print(train_1.shape)\n",
    "print(validation_1.shape)"
   ]
  },
  {
   "cell_type": "code",
   "execution_count": 14,
   "id": "fe860037",
   "metadata": {},
   "outputs": [
    {
     "name": "stdout",
     "output_type": "stream",
     "text": [
      "Found 950 validated image filenames.\n",
      "Found 50 validated image filenames.\n",
      "Found 1900 validated image filenames.\n",
      "Found 100 validated image filenames.\n"
     ]
    }
   ],
   "source": [
    "train_set = generate_image_dataset(train)\n",
    "valid_set = generate_image_dataset(validation)\n",
    "train_set_1 = generate_image_dataset(train_1)\n",
    "valid_set_1 = generate_image_dataset(validation_1)"
   ]
  },
  {
   "cell_type": "markdown",
   "id": "98794470",
   "metadata": {},
   "source": [
    "From the 1000 dataset we have 950 images in the training dataset and 50 in validation, similarly from 2000 dataset we have 1900 images in training dataset and 100 in validation"
   ]
  },
  {
   "cell_type": "markdown",
   "id": "812172e6",
   "metadata": {},
   "source": [
    "# Creating Deep Neural Network Model using Keras"
   ]
  },
  {
   "cell_type": "code",
   "execution_count": 15,
   "id": "3e1fc08b",
   "metadata": {},
   "outputs": [
    {
     "name": "stderr",
     "output_type": "stream",
     "text": [
      "2022-08-11 10:53:04.873858: I tensorflow/core/platform/cpu_feature_guard.cc:193] This TensorFlow binary is optimized with oneAPI Deep Neural Network Library (oneDNN) to use the following CPU instructions in performance-critical operations:  AVX2 FMA\n",
      "To enable them in other operations, rebuild TensorFlow with the appropriate compiler flags.\n"
     ]
    },
    {
     "name": "stdout",
     "output_type": "stream",
     "text": [
      "Model: \"sequential\"\n",
      "_________________________________________________________________\n",
      " Layer (type)                Output Shape              Param #   \n",
      "=================================================================\n",
      " conv2d (Conv2D)             (None, 100, 100, 16)      160       \n",
      "                                                                 \n",
      " conv2d_1 (Conv2D)           (None, 100, 100, 16)      2320      \n",
      "                                                                 \n",
      " batch_normalization (BatchN  (None, 100, 100, 16)     64        \n",
      " ormalization)                                                   \n",
      "                                                                 \n",
      " max_pooling2d (MaxPooling2D  (None, 50, 50, 16)       0         \n",
      " )                                                               \n",
      "                                                                 \n",
      " conv2d_2 (Conv2D)           (None, 50, 50, 32)        4640      \n",
      "                                                                 \n",
      " conv2d_3 (Conv2D)           (None, 50, 50, 32)        9248      \n",
      "                                                                 \n",
      " batch_normalization_1 (Batc  (None, 50, 50, 32)       128       \n",
      " hNormalization)                                                 \n",
      "                                                                 \n",
      " max_pooling2d_1 (MaxPooling  (None, 25, 25, 32)       0         \n",
      " 2D)                                                             \n",
      "                                                                 \n",
      " conv2d_4 (Conv2D)           (None, 25, 25, 16)        4624      \n",
      "                                                                 \n",
      " conv2d_5 (Conv2D)           (None, 25, 25, 16)        2320      \n",
      "                                                                 \n",
      " batch_normalization_2 (Batc  (None, 25, 25, 16)       64        \n",
      " hNormalization)                                                 \n",
      "                                                                 \n",
      " global_average_pooling2d (G  (None, 16)               0         \n",
      " lobalAveragePooling2D)                                          \n",
      "                                                                 \n",
      " dense (Dense)               (None, 12)                204       \n",
      "                                                                 \n",
      "=================================================================\n",
      "Total params: 23,772\n",
      "Trainable params: 23,644\n",
      "Non-trainable params: 128\n",
      "_________________________________________________________________\n"
     ]
    }
   ],
   "source": [
    "def create_model():\n",
    "    model = Sequential()\n",
    "    model.add(Conv2D(16, 3, activation=\"relu\", padding=\"same\", input_shape=(configuration.img_size, configuration.img_size, 1)))\n",
    "    model.add(Conv2D(16, 3, activation=\"relu\", padding=\"same\"))\n",
    "    model.add(BatchNormalization())\n",
    "    model.add(MaxPool2D(pool_size=(2, 2), strides=None, padding=\"valid\"))\n",
    "    model.add(Conv2D(32, 3, activation=\"relu\", padding=\"same\"))\n",
    "    model.add(Conv2D(32, 3, activation=\"relu\", padding=\"same\"))\n",
    "    model.add(BatchNormalization())\n",
    "    model.add(MaxPool2D(pool_size=(2, 2), strides=None, padding=\"valid\"))\n",
    "    model.add(Conv2D(16, 3, activation=\"relu\", padding=\"same\"))\n",
    "    model.add(Conv2D(16, 3, activation=\"relu\", padding=\"same\"))\n",
    "    model.add(BatchNormalization())\n",
    "    model.add(GlobalAveragePooling2D())\n",
    "    model.add(Dense(configuration.n_CLASS, activation=\"relu\"))\n",
    "    return model\n",
    "\n",
    "model = create_model()\n",
    "model.summary()"
   ]
  },
  {
   "cell_type": "markdown",
   "id": "d4d375ad",
   "metadata": {},
   "source": [
    "Here we build a 3 layered network with 16, 32, 16 nodes in each layer respectively. The activation function we have used is ReLu (Rectifies Linear Unit) as it tends to converge quickly and performs better with deeper networks.\n",
    "\n",
    "Each layer is a Convolutional 2D which applies a convoluation to every image and brings it to a 2D from a multi-plane image. The first layers input size is the same as the input size of the training dataset's features, which in this case is the size of the image, set to 380 pixels.\n",
    "\n",
    "When training deep neural networks, a technique called batch normalization is used to equalize the inputs to each layer for each mini-batch. After every layer we have performed batch normalization. As a result, the learning process is stabilized and the quantity of training epochs needed to train deep networks is drastically decreased.\n",
    "\n"
   ]
  },
  {
   "cell_type": "code",
   "execution_count": 16,
   "id": "cbdc73c4",
   "metadata": {},
   "outputs": [],
   "source": [
    "step_size_train = train_set.n // train_set.batch_size\n",
    "step_size_valid = valid_set.n // valid_set.batch_size\n",
    "\n",
    "step_size_train_1 = train_set_1.n // train_set_1.batch_size\n",
    "step_size_valid_1 = valid_set_1.n // valid_set_1.batch_size"
   ]
  },
  {
   "cell_type": "code",
   "execution_count": 21,
   "id": "f01b812b",
   "metadata": {},
   "outputs": [
    {
     "name": "stdout",
     "output_type": "stream",
     "text": [
      "Epoch 1/5\n",
      "29/29 [==============================] - 19s 625ms/step - loss: 69.2781 - mean_squared_error: 69.2781 - val_loss: 20.5803 - val_mean_squared_error: 20.5803\n",
      "Epoch 2/5\n",
      "29/29 [==============================] - 18s 610ms/step - loss: 65.3118 - mean_squared_error: 65.3118 - val_loss: 24.9826 - val_mean_squared_error: 24.9826\n",
      "Epoch 3/5\n",
      "29/29 [==============================] - 18s 623ms/step - loss: 63.3542 - mean_squared_error: 63.3542 - val_loss: 32.7343 - val_mean_squared_error: 32.7343\n",
      "Epoch 4/5\n",
      "29/29 [==============================] - 18s 630ms/step - loss: 61.5021 - mean_squared_error: 61.5021 - val_loss: 52.2044 - val_mean_squared_error: 52.2044\n",
      "Epoch 5/5\n",
      "29/29 [==============================] - 17s 599ms/step - loss: 61.3626 - mean_squared_error: 61.3626 - val_loss: 53.3727 - val_mean_squared_error: 53.3727\n"
     ]
    }
   ],
   "source": [
    "model = create_model()\n",
    "model.load_weights(\"bms_formula_model.h5\")\n",
    "checkpoint_cb = ModelCheckpoint(\"bms_formula_best_model.h5\", save_best_only=True, monitor=\"val_loss\", mode=\"min\")\n",
    "\n",
    "lr = CosineDecay(initial_learning_rate = configuration.init_lr, decay_steps = step_size_train * 5)\n",
    "\n",
    "model.compile(optimizer = Adam(learning_rate=lr), loss=\"mean_squared_error\", metrics=[\"mean_squared_error\"])\n",
    "\n",
    "history = model.fit(train_set,\n",
    "                    validation_data = valid_set,\n",
    "                    epochs = 5,\n",
    "                    batch_size = configuration.batch_size,\n",
    "                    steps_per_epoch = step_size_train,\n",
    "                    validation_steps = step_size_valid,\n",
    "                    callbacks=[checkpoint_cb])\n",
    "\n",
    "model.save(\"bms_model.h5\")"
   ]
  },
  {
   "cell_type": "markdown",
   "id": "d4eb33b7",
   "metadata": {},
   "source": [
    "Reducing Loss percentage indicates that with every epoch, the model is learning better and is reducing its mean squared error. Here we have restricted our model to run minimal epochs, as we increase the epoch, performance will increase."
   ]
  },
  {
   "cell_type": "code",
   "execution_count": 22,
   "id": "9dc10d51",
   "metadata": {},
   "outputs": [
    {
     "data": {
      "image/png": "[encoded data removed]",
      "text/plain": [
       "<Figure size 432x288 with 1 Axes>"
      ]
     },
     "metadata": {
      "needs_background": "light"
     },
     "output_type": "display_data"
    }
   ],
   "source": [
    "plot.plot(history.history['loss'])\n",
    "plot.title('model loss function')\n",
    "plot.ylabel('loss')\n",
    "plot.xlabel('epoch')\n",
    "plot.show()"
   ]
  },
  {
   "cell_type": "code",
   "execution_count": 23,
   "id": "72974c34",
   "metadata": {},
   "outputs": [],
   "source": [
    "def array_to_iupac(a):\n",
    "    f = \"\"\n",
    "    for atom, num in zip(list_of_atom, a):\n",
    "        if num > 1:\n",
    "            f += \"%s%s\" % (atom, int(num))\n",
    "        elif num == 1:\n",
    "            f += atom\n",
    "    return f"
   ]
  },
  {
   "cell_type": "code",
   "execution_count": 24,
   "id": "501cdebd",
   "metadata": {},
   "outputs": [
    {
     "data": {
      "application/vnd.jupyter.widget-view+json": {
       "model_id": "8a47f81803d24255a07b596668d2c376",
       "version_major": 2,
       "version_minor": 0
      },
      "text/plain": [
       "  0%|          | 0/30 [00:00<?, ?it/s]"
      ]
     },
     "metadata": {},
     "output_type": "display_data"
    },
    {
     "name": "stdout",
     "output_type": "stream",
     "text": [
      "1/1 [==============================] - 0s 448ms/step\n",
      "1/1 [==============================] - 0s 185ms/step\n",
      "1/1 [==============================] - 0s 282ms/step\n",
      "1/1 [==============================] - 0s 178ms/step\n",
      "1/1 [==============================] - 0s 224ms/step\n",
      "1/1 [==============================] - 0s 203ms/step\n",
      "1/1 [==============================] - 0s 199ms/step\n",
      "1/1 [==============================] - 0s 204ms/step\n",
      "1/1 [==============================] - 0s 183ms/step\n",
      "1/1 [==============================] - 0s 175ms/step\n",
      "1/1 [==============================] - 0s 189ms/step\n",
      "1/1 [==============================] - 0s 209ms/step\n",
      "1/1 [==============================] - 0s 250ms/step\n",
      "1/1 [==============================] - 0s 184ms/step\n",
      "1/1 [==============================] - 0s 171ms/step\n",
      "1/1 [==============================] - 0s 152ms/step\n",
      "1/1 [==============================] - 0s 142ms/step\n",
      "1/1 [==============================] - 0s 141ms/step\n",
      "1/1 [==============================] - 0s 142ms/step\n",
      "1/1 [==============================] - 0s 141ms/step\n",
      "1/1 [==============================] - 0s 141ms/step\n",
      "1/1 [==============================] - 0s 166ms/step\n",
      "1/1 [==============================] - 0s 191ms/step\n",
      "1/1 [==============================] - 0s 165ms/step\n",
      "1/1 [==============================] - 0s 211ms/step\n",
      "1/1 [==============================] - 0s 147ms/step\n",
      "1/1 [==============================] - 0s 145ms/step\n",
      "1/1 [==============================] - 0s 163ms/step\n",
      "1/1 [==============================] - 0s 140ms/step\n",
      "1/1 [==============================] - 0s 225ms/step\n",
      "The Levenshtein distance of train data is 7.7284210526315835\n"
     ]
    }
   ],
   "source": [
    "lsval = 0.\n",
    "\n",
    "for i, (test, formula_list) in enumerate(tqdm(train_set)):\n",
    "    if i >= len(train_set):\n",
    "        break\n",
    "    predicts = np.round(model.predict(test))\n",
    "    for predict, formula in zip(predicts, formula_list):\n",
    "        predict_iupac = array_to_iupac(predict)\n",
    "        true_iupac = array_to_iupac(formula)\n",
    "        lsval += Levenshtein.distance(predict_iupac, true_iupac) / (configuration.num_data * (1 - configuration.test_size))\n",
    "\n",
    "print(\"The Levenshtein distance of train data is %s\" % lsval)"
   ]
  },
  {
   "cell_type": "markdown",
   "id": "9691c142",
   "metadata": {},
   "source": [
    "Levenshtein distance is calculated as the number of characters which need to be changed in the predicted string as compared to the original string. The original string here are the chemical structure of the given molecular compound. The maximum length of the chemical structure in this dataset (found in the EDA.ipynb) is 397, the average length of the chemical structure in this dataset (found in the EDA.ipynb) is 120.03.\n",
    "\n",
    "Our model predicts the same chemical structure with an average error of 7 characters."
   ]
  },
  {
   "cell_type": "code",
   "execution_count": 25,
   "id": "46bd9176",
   "metadata": {},
   "outputs": [
    {
     "name": "stdout",
     "output_type": "stream",
     "text": [
      "Model: \"sequential_5\"\n",
      "_________________________________________________________________\n",
      " Layer (type)                Output Shape              Param #   \n",
      "=================================================================\n",
      " conv2d_30 (Conv2D)          (None, 100, 100, 16)      160       \n",
      "                                                                 \n",
      " conv2d_31 (Conv2D)          (None, 100, 100, 16)      2320      \n",
      "                                                                 \n",
      " batch_normalization_15 (Bat  (None, 100, 100, 16)     64        \n",
      " chNormalization)                                                \n",
      "                                                                 \n",
      " max_pooling2d_10 (MaxPoolin  (None, 50, 50, 16)       0         \n",
      " g2D)                                                            \n",
      "                                                                 \n",
      " conv2d_32 (Conv2D)          (None, 50, 50, 32)        4640      \n",
      "                                                                 \n",
      " conv2d_33 (Conv2D)          (None, 50, 50, 32)        9248      \n",
      "                                                                 \n",
      " batch_normalization_16 (Bat  (None, 50, 50, 32)       128       \n",
      " chNormalization)                                                \n",
      "                                                                 \n",
      " max_pooling2d_11 (MaxPoolin  (None, 25, 25, 32)       0         \n",
      " g2D)                                                            \n",
      "                                                                 \n",
      " conv2d_34 (Conv2D)          (None, 25, 25, 64)        18496     \n",
      "                                                                 \n",
      " conv2d_35 (Conv2D)          (None, 25, 25, 64)        36928     \n",
      "                                                                 \n",
      " batch_normalization_17 (Bat  (None, 25, 25, 64)       256       \n",
      " chNormalization)                                                \n",
      "                                                                 \n",
      " max_pooling2d_12 (MaxPoolin  (None, 12, 12, 64)       0         \n",
      " g2D)                                                            \n",
      "                                                                 \n",
      " conv2d_36 (Conv2D)          (None, 12, 12, 64)        36928     \n",
      "                                                                 \n",
      " conv2d_37 (Conv2D)          (None, 12, 12, 64)        36928     \n",
      "                                                                 \n",
      " batch_normalization_18 (Bat  (None, 12, 12, 64)       256       \n",
      " chNormalization)                                                \n",
      "                                                                 \n",
      " global_average_pooling2d_5   (None, 64)               0         \n",
      " (GlobalAveragePooling2D)                                        \n",
      "                                                                 \n",
      " dense_5 (Dense)             (None, 12)                780       \n",
      "                                                                 \n",
      "=================================================================\n",
      "Total params: 147,132\n",
      "Trainable params: 146,780\n",
      "Non-trainable params: 352\n",
      "_________________________________________________________________\n"
     ]
    }
   ],
   "source": [
    "def create_model_1():\n",
    "    model_1 = Sequential()\n",
    "    model_1.add(Conv2D(16, 3, activation=\"relu\", padding=\"same\", input_shape=(configuration.img_size, configuration.img_size, 1)))\n",
    "    model_1.add(Conv2D(16, 3, activation=\"relu\", padding=\"same\"))\n",
    "    model_1.add(BatchNormalization())\n",
    "    model_1.add(MaxPool2D(pool_size=(2, 2), strides=None, padding=\"valid\"))\n",
    "    model_1.add(Conv2D(32, 3, activation=\"sigmoid\", padding=\"same\"))\n",
    "    model_1.add(Conv2D(32, 3, activation=\"sigmoid\", padding=\"same\"))\n",
    "    model_1.add(BatchNormalization())\n",
    "    model_1.add(MaxPool2D(pool_size=(2, 2), strides=None, padding=\"valid\"))\n",
    "    model_1.add(Conv2D(64, 3, activation=\"sigmoid\", padding=\"same\"))\n",
    "    model_1.add(Conv2D(64, 3, activation=\"sigmoid\", padding=\"same\"))\n",
    "    model_1.add(BatchNormalization())\n",
    "    model_1.add(MaxPool2D(pool_size=(2, 2), strides=None, padding=\"valid\"))\n",
    "    model_1.add(Conv2D(64, 3, activation=\"relu\", padding=\"same\"))\n",
    "    model_1.add(Conv2D(64, 3, activation=\"relu\", padding=\"same\"))\n",
    "    model_1.add(BatchNormalization())\n",
    "    model_1.add(GlobalAveragePooling2D())\n",
    "    model_1.add(Dense(configuration.n_CLASS, activation=\"relu\"))\n",
    "    return model_1\n",
    "\n",
    "model_1 = create_model_1()\n",
    "model_1.summary()"
   ]
  },
  {
   "cell_type": "code",
   "execution_count": 26,
   "id": "2e9d0cb0",
   "metadata": {},
   "outputs": [
    {
     "name": "stdout",
     "output_type": "stream",
     "text": [
      "Epoch 1/10\n",
      "59/59 [==============================] - 46s 752ms/step - loss: 65.2639 - mean_squared_error: 65.2639 - val_loss: 55.4069 - val_mean_squared_error: 55.4069\n",
      "Epoch 2/10\n",
      "59/59 [==============================] - 44s 745ms/step - loss: 54.7411 - mean_squared_error: 54.7411 - val_loss: 36.2005 - val_mean_squared_error: 36.2005\n",
      "Epoch 3/10\n",
      "59/59 [==============================] - 47s 789ms/step - loss: 49.1049 - mean_squared_error: 49.1049 - val_loss: 45.0813 - val_mean_squared_error: 45.0813\n",
      "Epoch 4/10\n",
      "59/59 [==============================] - 46s 779ms/step - loss: 44.4756 - mean_squared_error: 44.4756 - val_loss: 37.4212 - val_mean_squared_error: 37.4212\n",
      "Epoch 5/10\n",
      "59/59 [==============================] - 47s 791ms/step - loss: 43.1310 - mean_squared_error: 43.1310 - val_loss: 33.6601 - val_mean_squared_error: 33.6601\n",
      "Epoch 6/10\n",
      "59/59 [==============================] - 46s 783ms/step - loss: 40.9947 - mean_squared_error: 40.9947 - val_loss: 47.8300 - val_mean_squared_error: 47.8300\n",
      "Epoch 7/10\n",
      "59/59 [==============================] - 47s 792ms/step - loss: 39.2838 - mean_squared_error: 39.2838 - val_loss: 50.2527 - val_mean_squared_error: 50.2527\n",
      "Epoch 8/10\n",
      "59/59 [==============================] - 47s 788ms/step - loss: 38.1802 - mean_squared_error: 38.1802 - val_loss: 61.6896 - val_mean_squared_error: 61.6896\n",
      "Epoch 9/10\n",
      "59/59 [==============================] - 47s 796ms/step - loss: 37.6115 - mean_squared_error: 37.6115 - val_loss: 59.0303 - val_mean_squared_error: 59.0303\n",
      "Epoch 10/10\n",
      "59/59 [==============================] - 47s 794ms/step - loss: 37.4243 - mean_squared_error: 37.4243 - val_loss: 60.2772 - val_mean_squared_error: 60.2772\n"
     ]
    }
   ],
   "source": [
    "model_1 = create_model_1()\n",
    "model.load_weights(\"bms_formula_model_1.h5\")\n",
    "\n",
    "lr = CosineDecay(initial_learning_rate = configuration.init_lr, decay_steps = step_size_train_1 * 10)\n",
    "\n",
    "model_1.compile(optimizer = Adam(learning_rate=lr), loss=\"mean_squared_error\", metrics=[\"mean_squared_error\"])\n",
    "\n",
    "checkpoint_cb = ModelCheckpoint(\"bms_formula_best_model_1.h5\", save_best_only=True, monitor=\"val_loss\", mode=\"min\")\n",
    "\n",
    "history_1 = model_1.fit(train_set_1,\n",
    "                    validation_data = valid_set_1,\n",
    "                    epochs = 10,\n",
    "                    batch_size = configuration.batch_size,\n",
    "                    steps_per_epoch = step_size_train_1,\n",
    "                    validation_steps = step_size_valid_1,\n",
    "                    callbacks=[checkpoint_cb])\n",
    "\n",
    "model.save(\"bms_model_1.h5\")"
   ]
  },
  {
   "cell_type": "code",
   "execution_count": 27,
   "id": "bb3162ec",
   "metadata": {},
   "outputs": [
    {
     "data": {
      "image/png": "[encoded data removed]",
      "text/plain": [
       "<Figure size 432x288 with 1 Axes>"
      ]
     },
     "metadata": {
      "needs_background": "light"
     },
     "output_type": "display_data"
    }
   ],
   "source": [
    "plot.plot(history_1.history['loss'])\n",
    "plot.title('model loss function')\n",
    "plot.ylabel('loss')\n",
    "plot.xlabel('epoch')\n",
    "plot.show()"
   ]
  },
  {
   "cell_type": "code",
   "execution_count": 36,
   "id": "617de339",
   "metadata": {},
   "outputs": [
    {
     "data": {
      "application/vnd.jupyter.widget-view+json": {
       "model_id": "0d51c19846d64e1a9f51206fd5279bc1",
       "version_major": 2,
       "version_minor": 0
      },
      "text/plain": [
       "  0%|          | 0/30 [00:00<?, ?it/s]"
      ]
     },
     "metadata": {},
     "output_type": "display_data"
    },
    {
     "name": "stdout",
     "output_type": "stream",
     "text": [
      "1/1 [==============================] - 0s 204ms/step\n",
      "1/1 [==============================] - 0s 194ms/step\n",
      "1/1 [==============================] - 0s 195ms/step\n",
      "1/1 [==============================] - 0s 197ms/step\n",
      "1/1 [==============================] - 0s 195ms/step\n",
      "1/1 [==============================] - 0s 196ms/step\n",
      "1/1 [==============================] - 0s 198ms/step\n",
      "1/1 [==============================] - 0s 196ms/step\n",
      "1/1 [==============================] - 0s 194ms/step\n",
      "1/1 [==============================] - 0s 197ms/step\n",
      "1/1 [==============================] - 0s 194ms/step\n",
      "1/1 [==============================] - 0s 200ms/step\n",
      "1/1 [==============================] - 0s 197ms/step\n",
      "1/1 [==============================] - 0s 194ms/step\n",
      "1/1 [==============================] - 0s 195ms/step\n",
      "1/1 [==============================] - 0s 193ms/step\n",
      "1/1 [==============================] - 0s 194ms/step\n",
      "1/1 [==============================] - 0s 194ms/step\n",
      "1/1 [==============================] - 0s 194ms/step\n",
      "1/1 [==============================] - 0s 194ms/step\n",
      "1/1 [==============================] - 0s 202ms/step\n",
      "1/1 [==============================] - 0s 202ms/step\n",
      "1/1 [==============================] - 0s 194ms/step\n",
      "1/1 [==============================] - 0s 204ms/step\n",
      "1/1 [==============================] - 0s 259ms/step\n",
      "1/1 [==============================] - 0s 266ms/step\n",
      "1/1 [==============================] - 0s 375ms/step\n",
      "1/1 [==============================] - 0s 361ms/step\n",
      "1/1 [==============================] - 0s 284ms/step\n",
      "1/1 [==============================] - 0s 343ms/step\n",
      "The Levenshtein distance of train data is 8.956842105263165\n"
     ]
    }
   ],
   "source": [
    "lsval_1 = 0.\n",
    "for i, (test, formula_list) in enumerate(tqdm(train_set)):\n",
    "    if i >= len(train_set):\n",
    "        break\n",
    "    predicts_1 = np.round(model_1.predict(test))\n",
    "    for predict, formula in zip(predicts_1, formula_list):\n",
    "        predict_iupac = array_to_iupac(predict)\n",
    "        true_iupac = array_to_iupac(formula)\n",
    "        lsval_1 += Levenshtein.distance(predict_iupac, true_iupac) / (configuration.num_data * (1 - configuration.test_size))\n",
    "\n",
    "print(\"The Levenshtein distance of train data is %s\" % lsval_1)"
   ]
  },
  {
   "cell_type": "markdown",
   "id": "94153a02",
   "metadata": {},
   "source": [
    "Levenshtein distance is calculated as the number of characters which need to be changed in the predicted string as compared to the original string. The original string here are the chemical structure of the given molecular compound. The maximum length of the chemical structure in this dataset (found in the EDA.ipynb) is 397, the average length of the chemical structure in this dataset (found in the EDA.ipynb) is 120.03.\n",
    "\n",
    "Our model predicts the same chemical structure with an average error of 8 characters."
   ]
  }
 ],
 "metadata": {
  "kernelspec": {
   "display_name": "Python 3 (ipykernel)",
   "language": "python",
   "name": "python3"
  },
  "language_info": {
   "codemirror_mode": {
    "name": "ipython",
    "version": 3
   },
   "file_extension": ".py",
   "mimetype": "text/x-python",
   "name": "python",
   "nbconvert_exporter": "python",
   "pygments_lexer": "ipython3",
   "version": "3.9.12"
  }
 },
 "nbformat": 4,
 "nbformat_minor": 5
}
