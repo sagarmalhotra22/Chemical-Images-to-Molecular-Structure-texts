{
 "cells": [
  {
   "cell_type": "code",
   "execution_count": 87,
   "id": "530caaff",
   "metadata": {},
   "outputs": [],
   "source": [
    "import os\n",
    "import random\n",
    "import numpy as np\n",
    "import pandas as pd\n",
    "import matplotlib.pyplot as plot\n",
    "from sklearn.metrics import accuracy_score, f1_score, roc_auc_score, roc_curve, RocCurveDisplay, precision_recall_fscore_support, matthews_corrcoef, classification_report\n",
    "from sklearn.model_selection import train_test_split\n",
    "import tensorflow as tf\n",
    "import keras\n",
    "from tqdm.notebook import tqdm\n",
    "from tensorflow.keras.optimizers import Adam\n",
    "from tensorflow.keras.experimental import CosineDecay\n",
    "from tensorflow.keras.callbacks import ModelCheckpoint\n",
    "from tensorflow.keras.losses import BinaryCrossentropy\n",
    "from tensorflow.keras.applications import EfficientNetB4\n",
    "from tensorflow.keras.models import Sequential, load_model\n",
    "from tensorflow.keras.layers import GlobalAveragePooling2D, Dense\n",
    "from tensorflow.keras.preprocessing.image import ImageDataGenerator\n",
    "import albumentations as A"
   ]
  },
  {
   "cell_type": "markdown",
   "id": "c3f5784b",
   "metadata": {},
   "source": [
    "Setting configurations for model and preprocessing"
   ]
  },
  {
   "cell_type": "code",
   "execution_count": 2,
   "id": "a3c1e518",
   "metadata": {},
   "outputs": [],
   "source": [
    "class configuration:\n",
    "    seed = 1234\n",
    "    norm_mean = [0.485, 0.456, 0.406]\n",
    "    norm_std = [0.229, 0.224, 0.225]\n",
    "    batch_size = 16\n",
    "    init_lr = 1e-3\n",
    "    epochs = 3\n",
    "    img_size = 100\n",
    "    class_mode = \"binary\"\n",
    "    n_CLASS = 2\n",
    "    interpolation = \"nearest\""
   ]
  },
  {
   "cell_type": "code",
   "execution_count": 3,
   "id": "bf1ce9fc",
   "metadata": {},
   "outputs": [],
   "source": [
    "tf.random.set_seed(configuration.seed)\n",
    "np.random.seed(configuration.seed)\n",
    "random.seed(configuration.seed)\n",
    "os.environ[\"PYTHONHASHSEED\"] = str(configuration.seed)"
   ]
  },
  {
   "cell_type": "code",
   "execution_count": 4,
   "id": "1fd42425",
   "metadata": {},
   "outputs": [
    {
     "data": {
      "text/plain": [
       "1234"
      ]
     },
     "execution_count": 4,
     "metadata": {},
     "output_type": "execute_result"
    }
   ],
   "source": [
    "configuration.seed"
   ]
  },
  {
   "cell_type": "code",
   "execution_count": 5,
   "id": "d366bebc",
   "metadata": {},
   "outputs": [],
   "source": [
    "train_dir = \"../input/bms-molecular-translation/train\"\n",
    "arranged_data_path = \"../input/bms-molecular-translation/arranged_bms_train_labels.csv\""
   ]
  },
  {
   "cell_type": "code",
   "execution_count": 6,
   "id": "d66473c9",
   "metadata": {},
   "outputs": [],
   "source": [
    "arranged_data = pd.read_csv(arranged_data_path)"
   ]
  },
  {
   "cell_type": "code",
   "execution_count": 36,
   "id": "fea259f4",
   "metadata": {},
   "outputs": [
    {
     "name": "stdout",
     "output_type": "stream",
     "text": [
      "(2424186, 32)\n",
      "   Unnamed: 0      image_id  \\\n",
      "0           0  000011a64c74   \n",
      "1           1  000019cc0cd2   \n",
      "\n",
      "                                               InChI  \\\n",
      "0  InChI=1S/C13H20OS/c1-9(2)8-15-13-6-5-10(3)7-12...   \n",
      "1  InChI=1S/C21H30O4/c1-12(22)25-14-6-8-20(2)13(1...   \n",
      "\n",
      "                                          image_path   formula  \\\n",
      "0  ../input/bms-molecular-translation/train/0/0/0...  C13H20OS   \n",
      "1  ../input/bms-molecular-translation/train/0/0/0...  C21H30O4   \n",
      "\n",
      "                                                   c  c_flg  \\\n",
      "0            c1-9(2)8-15-13-6-5-10(3)7-12(13)11(4)14      1   \n",
      "1  c1-12(22)25-14-6-8-20(2)13(10-14)11-17(23)19-1...      1   \n",
      "\n",
      "                         h  h_flg    b  ...  Br Cl  F  I  N  O  P  S  Si  \\\n",
      "0  h5-7,9,11,14H,8H2,1-4H3      1  NaN  ...   0  0  0  0  0  1  0  1   0   \n",
      "1  h13-16,19H,4-11H2,1-3H3      1  NaN  ...   0  0  0  0  0  4  0  0   0   \n",
      "\n",
      "   total  \n",
      "0     35  \n",
      "1     55  \n",
      "\n",
      "[2 rows x 32 columns]\n",
      "Index(['Unnamed: 0', 'image_id', 'InChI', 'image_path', 'formula', 'c',\n",
      "       'c_flg', 'h', 'h_flg', 'b', 'b_flg', 't', 't_flg', 'm', 'm_flg', 's',\n",
      "       's_flg', 'i', 'i_flg', 'C', 'H', 'B', 'Br', 'Cl', 'F', 'I', 'N', 'O',\n",
      "       'P', 'S', 'Si', 'total'],\n",
      "      dtype='object')\n"
     ]
    }
   ],
   "source": [
    "print(arranged_data.shape)\n",
    "print(arranged_data.head(2))\n",
    "print(arranged_data.columns)"
   ]
  },
  {
   "cell_type": "markdown",
   "id": "f36ff317",
   "metadata": {},
   "source": [
    "Here the columns [c,c_flg,h,h_flg,b,b_flg,t,t_flg,m,m_flg,s,s_flg,i,i_flg] represent the stereochemistry of the model. Stereochemistry involves three-dimensional arrangement of atoms and molecules and the effect of this on chemical reactions. \n",
    "\n",
    "For example, InChI=1S/C21H30O4/c1-12(22)25-14-6-8-20(2)13(10-14)11-17(23)19-15-4-5-18(24)21(15,3)9-7-16(19)20/h13-16,19H,4-11H2,1-3H3/t13-,14+,15+,16-,19-,20+,21+/m1/s1 is an InChI label where stereochemistry information begins from /t.\n",
    "\n",
    "/t is the sublayer for tetrahedral centers, complemented by two indicator stereo layers '/m1' and '/s1'. /m1 means that the selected one has the inverse arrangement. /s1 means there is absolute stereochemistry. Which is basically the spatial arrangement of atoms or groups in a chemical compound about an asymmetric atom, and such compounds are  called Chiral compounds.\n",
    "\n",
    "Similarly different flags represent different chemical characteristics.\n",
    "\n",
    "Here we try to build a model to predict the chirality of each chemical compound."
   ]
  },
  {
   "cell_type": "code",
   "execution_count": 37,
   "id": "156fd949",
   "metadata": {},
   "outputs": [
    {
     "name": "stdout",
     "output_type": "stream",
     "text": [
      "0    2028036\n",
      "1     396150\n",
      "Name: s_flg, dtype: int64\n"
     ]
    }
   ],
   "source": [
    "print(arranged_data['s_flg'].value_counts())"
   ]
  },
  {
   "cell_type": "markdown",
   "id": "b87c97c4",
   "metadata": {},
   "source": [
    "In our dataset of 2.4 million compounds, nearly 2 million compounds are not chiral compounds, that is when the compounds mirror image is rotated or translated, it will not be able to superimpose on the original compound. Whereas, 0.4 million have the chirality flag as 1 depicting they are chiral compounds. "
   ]
  },
  {
   "cell_type": "code",
   "execution_count": 9,
   "id": "766ccef8",
   "metadata": {},
   "outputs": [],
   "source": [
    "d = arranged_data.sample(n=1000)"
   ]
  },
  {
   "cell_type": "markdown",
   "id": "348f24aa",
   "metadata": {},
   "source": [
    "We only take a subset of 1000 chemical compunds, to reduce computation time and memory optimization."
   ]
  },
  {
   "cell_type": "code",
   "execution_count": 10,
   "id": "16a5edf3",
   "metadata": {},
   "outputs": [
    {
     "name": "stdout",
     "output_type": "stream",
     "text": [
      "(1000, 32)\n",
      "0    847\n",
      "1    153\n",
      "Name: s_flg, dtype: int64\n"
     ]
    }
   ],
   "source": [
    "print(d.shape)\n",
    "print(d['s_flg'].value_counts())"
   ]
  },
  {
   "cell_type": "code",
   "execution_count": 11,
   "id": "d53a7b72",
   "metadata": {},
   "outputs": [],
   "source": [
    "data = d[[\"image_path\"]].copy()\n",
    "data[\"label\"] = d[\"s_flg\"].astype(\"str\")"
   ]
  },
  {
   "cell_type": "code",
   "execution_count": 12,
   "id": "f593dc86",
   "metadata": {},
   "outputs": [
    {
     "data": {
      "text/plain": [
       "(1000, 2)"
      ]
     },
     "execution_count": 12,
     "metadata": {},
     "output_type": "execute_result"
    }
   ],
   "source": [
    "data.shape"
   ]
  },
  {
   "cell_type": "code",
   "execution_count": 13,
   "id": "29478390",
   "metadata": {},
   "outputs": [
    {
     "data": {
      "text/plain": [
       "Index(['image_path', 'label'], dtype='object')"
      ]
     },
     "execution_count": 13,
     "metadata": {},
     "output_type": "execute_result"
    }
   ],
   "source": [
    "data.columns"
   ]
  },
  {
   "cell_type": "markdown",
   "id": "c960e73e",
   "metadata": {},
   "source": [
    "Method to generate Image data for augmentation of image data in realtime. ImageDataGenerator is a package that helps transform and preprocess training images. Here we transform the image by resizing it and bringing it to the same color gradient."
   ]
  },
  {
   "cell_type": "code",
   "execution_count": 14,
   "id": "b3b6fbee",
   "metadata": {},
   "outputs": [],
   "source": [
    "data_augumentation = A.Compose([A.Normalize(mean=configuration.norm_mean, std=configuration.norm_std, max_pixel_value=255, p=1.0)])\n",
    "\n",
    "def image_data_transformation(image):\n",
    "    image = data_augumentation(image=image.astype(np.uint8))[\"image\"]\n",
    "    return image"
   ]
  },
  {
   "cell_type": "code",
   "execution_count": 15,
   "id": "4b9c7c86",
   "metadata": {},
   "outputs": [],
   "source": [
    "training_image_data = ImageDataGenerator(preprocessing_function = image_data_transformation)\n",
    "validation_image_data = ImageDataGenerator(preprocessing_function = image_data_transformation)"
   ]
  },
  {
   "cell_type": "code",
   "execution_count": 16,
   "id": "77c04bc5",
   "metadata": {},
   "outputs": [],
   "source": [
    "def create_dataset(dataset):\n",
    "    data_set = training_image_data.flow_from_dataframe(\n",
    "        dataframe=dataset,\n",
    "        directory = None,\n",
    "        seed = configuration.seed,\n",
    "        x_col = \"image_path\",\n",
    "        y_col = \"label\",\n",
    "        target_size = (configuration.img_size, configuration.img_size),\n",
    "        class_mode = configuration.class_mode,\n",
    "        interpolation = configuration.interpolation,\n",
    "        shuffle = True,\n",
    "        batch_size = configuration.batch_size,\n",
    "        validate_filenames=False)\n",
    "    return data_set"
   ]
  },
  {
   "cell_type": "markdown",
   "id": "6434cfb5",
   "metadata": {},
   "source": [
    "Splitting data for training and validation"
   ]
  },
  {
   "cell_type": "code",
   "execution_count": 17,
   "id": "2abc6052",
   "metadata": {},
   "outputs": [],
   "source": [
    "train, val = train_test_split(data, test_size=0.05, random_state=configuration.seed, stratify=data[\"label\"])"
   ]
  },
  {
   "cell_type": "code",
   "execution_count": 18,
   "id": "1fa6ce9c",
   "metadata": {},
   "outputs": [
    {
     "name": "stdout",
     "output_type": "stream",
     "text": [
      "                                                image_path label\n",
      "1533290  ../input/bms-molecular-translation/train/a/1/d...     1\n",
      "657676   ../input/bms-molecular-translation/train/4/5/6...     0\n",
      "(950, 2)\n"
     ]
    }
   ],
   "source": [
    "print(train.head(2))\n",
    "print(train.shape)"
   ]
  },
  {
   "cell_type": "code",
   "execution_count": 19,
   "id": "615861f8",
   "metadata": {},
   "outputs": [
    {
     "name": "stdout",
     "output_type": "stream",
     "text": [
      "                                                image_path label\n",
      "1671479  ../input/bms-molecular-translation/train/b/0/7...     0\n",
      "633435   ../input/bms-molecular-translation/train/4/2/d...     0\n",
      "(50, 2)\n"
     ]
    }
   ],
   "source": [
    "print(val.head(2))\n",
    "print(val.shape)"
   ]
  },
  {
   "cell_type": "code",
   "execution_count": 20,
   "id": "9f2aedc4",
   "metadata": {},
   "outputs": [
    {
     "name": "stdout",
     "output_type": "stream",
     "text": [
      "Found 50 non-validated image filenames belonging to 2 classes.\n",
      "Found 950 non-validated image filenames belonging to 2 classes.\n"
     ]
    }
   ],
   "source": [
    "valid_set = create_dataset(val)\n",
    "train_set = create_dataset(train)"
   ]
  },
  {
   "cell_type": "markdown",
   "id": "d0ad234c",
   "metadata": {},
   "source": [
    "From the 1000 dataset we have 950 images in the training dataset and 50 in validation"
   ]
  },
  {
   "cell_type": "markdown",
   "id": "581daaea",
   "metadata": {},
   "source": [
    "\n",
    "# Creating Neural Network Model using Keras"
   ]
  },
  {
   "cell_type": "code",
   "execution_count": 21,
   "id": "b788d43c",
   "metadata": {},
   "outputs": [
    {
     "name": "stderr",
     "output_type": "stream",
     "text": [
      "2022-08-12 08:48:43.815487: I tensorflow/core/platform/cpu_feature_guard.cc:193] This TensorFlow binary is optimized with oneAPI Deep Neural Network Library (oneDNN) to use the following CPU instructions in performance-critical operations:  AVX2 FMA\n",
      "To enable them in other operations, rebuild TensorFlow with the appropriate compiler flags.\n"
     ]
    },
    {
     "name": "stdout",
     "output_type": "stream",
     "text": [
      "Model: \"sequential\"\n",
      "_________________________________________________________________\n",
      " Layer (type)                Output Shape              Param #   \n",
      "=================================================================\n",
      " efficientnetb4 (Functional)  (None, 4, 4, 1792)       17673823  \n",
      "                                                                 \n",
      " global_average_pooling2d (G  (None, 1792)             0         \n",
      " lobalAveragePooling2D)                                          \n",
      "                                                                 \n",
      " dense (Dense)               (None, 1)                 1793      \n",
      "                                                                 \n",
      "=================================================================\n",
      "Total params: 17,675,616\n",
      "Trainable params: 17,550,409\n",
      "Non-trainable params: 125,207\n",
      "_________________________________________________________________\n"
     ]
    }
   ],
   "source": [
    "def create_model():\n",
    "    model = Sequential()\n",
    "    model.add(EfficientNetB4(input_shape = (configuration.img_size, configuration.img_size, 3), include_top=False, weights = \"imagenet\", drop_connect_rate=0.6))\n",
    "    model.add(GlobalAveragePooling2D())\n",
    "    model.add(Dense(1, activation=\"sigmoid\"))\n",
    "    return model\n",
    "\n",
    "model = create_model()\n",
    "model.summary()"
   ]
  },
  {
   "cell_type": "markdown",
   "id": "81d318aa",
   "metadata": {},
   "source": [
    "Here we build a neural network model using EfficientNet which is a convolutional neural network architecture and scaling method that uniformly scales all dimensions of depth/width/resolution using a compound coefficient.\n",
    "EfficientNetB4 is an architecture used for image classification which comes with weights pre-trained on ImageNet. The input to this network is the training dataset which 950 chemical compounds and has the feature as pixels of the image, which has been set to 100 during preprocessing."
   ]
  },
  {
   "cell_type": "code",
   "execution_count": 22,
   "id": "e6f66a38",
   "metadata": {},
   "outputs": [],
   "source": [
    "step_size_train = train_set.n // train_set.batch_size\n",
    "step_size_valid = valid_set.n // valid_set.batch_size"
   ]
  },
  {
   "cell_type": "code",
   "execution_count": 23,
   "id": "f35bf96e",
   "metadata": {},
   "outputs": [],
   "source": [
    "model = create_model()\n",
    "model.load_weights(\"bms_s_model.h5\")\n",
    "    \n",
    "loss = BinaryCrossentropy(from_logits = False, name=\"binary_crossentropy\")\n",
    "\n",
    "lr = CosineDecay(initial_learning_rate = configuration.init_lr, decay_steps = step_size_train * configuration.epochs)\n",
    "\n",
    "model.compile(optimizer = Adam(learning_rate=lr), loss=loss, metrics=[\"binary_accuracy\"])\n",
    "\n",
    "checkpoint_cb = ModelCheckpoint(\"bms_best_model.h5\", save_best_only=True, monitor=\"val_loss\", mode=\"min\")"
   ]
  },
  {
   "cell_type": "code",
   "execution_count": 24,
   "id": "c3d075dd",
   "metadata": {},
   "outputs": [
    {
     "name": "stdout",
     "output_type": "stream",
     "text": [
      "Epoch 1/3\n",
      "59/59 [==============================] - 288s 4s/step - loss: 0.4865 - binary_accuracy: 0.8062 - val_loss: 0.5228 - val_binary_accuracy: 0.8333\n",
      "Epoch 2/3\n",
      "59/59 [==============================] - 234s 4s/step - loss: 0.3972 - binary_accuracy: 0.8426 - val_loss: 0.4541 - val_binary_accuracy: 0.8333\n",
      "Epoch 3/3\n",
      "59/59 [==============================] - 208s 4s/step - loss: 0.3310 - binary_accuracy: 0.8662 - val_loss: 0.4421 - val_binary_accuracy: 0.8333\n"
     ]
    }
   ],
   "source": [
    "history = model.fit(train_set,\n",
    "                    validation_data = valid_set,\n",
    "                    epochs = configuration.epochs,\n",
    "                    batch_size = configuration.batch_size,\n",
    "                    steps_per_epoch = step_size_train,\n",
    "                    validation_steps = step_size_valid,\n",
    "                    callbacks=[checkpoint_cb])\n",
    "\n",
    "model.save(\"bms_model.h5\")"
   ]
  },
  {
   "cell_type": "markdown",
   "id": "2b475286",
   "metadata": {},
   "source": [
    "Reducing Loss percentage indicates that with every epoch, the model is learning better and is increasing its accuracy. Here we have restricted our model to run minimal epochs, due to a dense dataset, as we increase the epoch, performance will increase."
   ]
  },
  {
   "cell_type": "code",
   "execution_count": 35,
   "id": "33ad4e23",
   "metadata": {},
   "outputs": [
    {
     "data": {
      "image/png": "[encoded data removed]",
      "text/plain": [
       "<Figure size 432x288 with 1 Axes>"
      ]
     },
     "metadata": {
      "needs_background": "light"
     },
     "output_type": "display_data"
    }
   ],
   "source": [
    "plot.plot(history.history['loss'])\n",
    "plot.plot(history.history['binary_accuracy'])\n",
    "plot.title('Model Performance')\n",
    "plot.ylabel('loss')\n",
    "plot.xlabel('epoch')\n",
    "plot.legend(['Loss Function', 'Model Accuracy'], loc='best')\n",
    "plot.show()"
   ]
  },
  {
   "cell_type": "code",
   "execution_count": 59,
   "id": "7f316ab0",
   "metadata": {},
   "outputs": [
    {
     "data": {
      "application/vnd.jupyter.widget-view+json": {
       "model_id": "5f1bffab477a4b4ab6abfbd1cf940eea",
       "version_major": 2,
       "version_minor": 0
      },
      "text/plain": [
       "  0%|          | 0/60 [00:00<?, ?it/s]"
      ]
     },
     "metadata": {},
     "output_type": "display_data"
    },
    {
     "name": "stdout",
     "output_type": "stream",
     "text": [
      "1/1 [==============================] - 1s 1s/step\n",
      "1/1 [==============================] - 1s 679ms/step\n",
      "1/1 [==============================] - 1s 687ms/step\n",
      "1/1 [==============================] - 1s 641ms/step\n",
      "1/1 [==============================] - 1s 640ms/step\n",
      "1/1 [==============================] - 1s 636ms/step\n",
      "1/1 [==============================] - 1s 655ms/step\n",
      "1/1 [==============================] - 1s 641ms/step\n",
      "1/1 [==============================] - 1s 641ms/step\n",
      "1/1 [==============================] - 1s 640ms/step\n",
      "1/1 [==============================] - 1s 635ms/step\n",
      "1/1 [==============================] - 1s 640ms/step\n",
      "1/1 [==============================] - 1s 646ms/step\n",
      "1/1 [==============================] - 1s 652ms/step\n",
      "1/1 [==============================] - 1s 728ms/step\n",
      "1/1 [==============================] - 1s 805ms/step\n",
      "1/1 [==============================] - 1s 761ms/step\n",
      "1/1 [==============================] - 1s 811ms/step\n",
      "1/1 [==============================] - 1s 641ms/step\n",
      "1/1 [==============================] - 1s 663ms/step\n",
      "1/1 [==============================] - 1s 641ms/step\n",
      "1/1 [==============================] - 1s 646ms/step\n",
      "1/1 [==============================] - 1s 668ms/step\n",
      "1/1 [==============================] - 1s 653ms/step\n",
      "1/1 [==============================] - 1s 639ms/step\n",
      "1/1 [==============================] - 1s 663ms/step\n",
      "1/1 [==============================] - 1s 634ms/step\n",
      "1/1 [==============================] - 1s 759ms/step\n",
      "1/1 [==============================] - 1s 739ms/step\n",
      "1/1 [==============================] - 1s 740ms/step\n",
      "1/1 [==============================] - 1s 832ms/step\n",
      "1/1 [==============================] - 1s 632ms/step\n",
      "1/1 [==============================] - 1s 651ms/step\n",
      "1/1 [==============================] - 1s 634ms/step\n",
      "1/1 [==============================] - 1s 633ms/step\n",
      "1/1 [==============================] - 1s 641ms/step\n",
      "1/1 [==============================] - 1s 639ms/step\n",
      "1/1 [==============================] - 1s 633ms/step\n",
      "1/1 [==============================] - 1s 632ms/step\n",
      "1/1 [==============================] - 1s 641ms/step\n",
      "1/1 [==============================] - 1s 638ms/step\n",
      "1/1 [==============================] - 1s 636ms/step\n",
      "1/1 [==============================] - 1s 645ms/step\n",
      "1/1 [==============================] - 1s 658ms/step\n",
      "1/1 [==============================] - 1s 667ms/step\n",
      "1/1 [==============================] - 1s 639ms/step\n",
      "1/1 [==============================] - 1s 688ms/step\n",
      "1/1 [==============================] - 1s 642ms/step\n",
      "1/1 [==============================] - 1s 644ms/step\n",
      "1/1 [==============================] - 1s 637ms/step\n",
      "1/1 [==============================] - 1s 640ms/step\n",
      "1/1 [==============================] - 1s 640ms/step\n",
      "1/1 [==============================] - 1s 646ms/step\n",
      "1/1 [==============================] - 1s 733ms/step\n",
      "1/1 [==============================] - 0s 348ms/step\n",
      "1/1 [==============================] - 1s 859ms/step\n",
      "1/1 [==============================] - 1s 833ms/step\n",
      "1/1 [==============================] - 1s 661ms/step\n",
      "1/1 [==============================] - 1s 651ms/step\n",
      "1/1 [==============================] - 1s 658ms/step\n"
     ]
    }
   ],
   "source": [
    "predictions = []\n",
    "formulae = []\n",
    "for i, (test, formula_list) in enumerate(tqdm(train_set)):\n",
    "    if i >= len(train_set):\n",
    "        break\n",
    "    predicts = model.predict(test)\n",
    "    for predict, formula in zip(predicts, formula_list):\n",
    "        predictions.append((predict[0] > 0.05).astype(int))\n",
    "        formulae.append(formula)"
   ]
  },
  {
   "cell_type": "code",
   "execution_count": 65,
   "id": "51269120",
   "metadata": {},
   "outputs": [],
   "source": [
    "# data to be plotted\n",
    "x = np.arange(1, 951)\n",
    "y = sorted(predictions, key = lambda x:float(x))"
   ]
  },
  {
   "cell_type": "code",
   "execution_count": 64,
   "id": "ce84704d",
   "metadata": {},
   "outputs": [
    {
     "data": {
      "image/png": "[encoded data removed]",
      "text/plain": [
       "<Figure size 432x288 with 1 Axes>"
      ]
     },
     "metadata": {
      "needs_background": "light"
     },
     "output_type": "display_data"
    }
   ],
   "source": [
    "plot.title(\"Line graph of predicted probabilities\")\n",
    "plot.xlabel(\"X axis\")\n",
    "plot.ylabel(\"Y axis\")\n",
    "plot.plot(x, y, color =\"red\")\n",
    "plot.show()"
   ]
  },
  {
   "cell_type": "code",
   "execution_count": 63,
   "id": "05dba370",
   "metadata": {},
   "outputs": [
    {
     "name": "stdout",
     "output_type": "stream",
     "text": [
      "4/4 [==============================] - 3s 644ms/step - loss: 0.4339 - binary_accuracy: 0.8400\n"
     ]
    },
    {
     "data": {
      "text/plain": [
       "[0.43386122584342957, 0.8399999737739563]"
      ]
     },
     "execution_count": 63,
     "metadata": {},
     "output_type": "execute_result"
    }
   ],
   "source": [
    "model.evaluate(valid_set)"
   ]
  },
  {
   "cell_type": "code",
   "execution_count": 92,
   "id": "40654404",
   "metadata": {},
   "outputs": [
    {
     "name": "stdout",
     "output_type": "stream",
     "text": [
      "Average F1 score of model -  0.7668711656441718\n",
      "\n",
      "Classification Report of model: \n",
      "              precision    recall  f1-score   support\n",
      "\n",
      "           0       0.98      0.93      0.95       808\n",
      "           1       0.68      0.88      0.77       142\n",
      "\n",
      "    accuracy                           0.92       950\n",
      "   macro avg       0.83      0.90      0.86       950\n",
      "weighted avg       0.93      0.92      0.92       950\n",
      "\n",
      "\n",
      "Macro scores of model - \n",
      "(0.828577307299353, 0.9036309440803236, 0.8592932702426703, None)\n",
      "\n",
      "Micro scores of model - \n",
      "(0.92, 0.92, 0.92, None)\n",
      "\n",
      "Weighted average scores of model - \n",
      "(0.9331950278124646, 0.92, 0.9240860298875125, None)\n",
      "\n",
      "The model's area under ROC curve is -  0.9036309440803235\n"
     ]
    },
    {
     "data": {
      "image/png": "[encoded data removed]",
      "text/plain": [
       "<Figure size 432x288 with 1 Axes>"
      ]
     },
     "metadata": {
      "needs_background": "light"
     },
     "output_type": "display_data"
    }
   ],
   "source": [
    "print(\"Average F1 score of model - \", f1_score(formulae, predictions))\n",
    "print(\"\\nClassification Report of model: \")\n",
    "print(classification_report(formulae, predictions))\n",
    "print(\"\\nMacro scores of model - \")\n",
    "print(precision_recall_fscore_support(formulae, predictions, average='macro'))\n",
    "print(\"\\nMicro scores of model - \")\n",
    "print(precision_recall_fscore_support(formulae, predictions, average='micro'))\n",
    "print(\"\\nWeighted average scores of model - \")\n",
    "print(precision_recall_fscore_support(formulae, predictions, average='weighted'))\n",
    "print(\"\\nThe model's area under ROC curve is - \", roc_auc_score(true, predictions))\n",
    "\n",
    "fpr, tpr, thresholds = roc_curve(formulae, predictions)\n",
    "plot.figure(1)\n",
    "plot.plot([0, 1], [0, 1], 'k--')\n",
    "plot.plot(fpr, tpr, label='Keras (area = {:.3f})'.format(roc_auc_score(formulae, predictions)))\n",
    "plot.xlabel('False positive rate')\n",
    "plot.ylabel('True positive rate')\n",
    "plot.title('ROC curve')\n",
    "plot.legend(loc='best')\n",
    "plot.show()"
   ]
  },
  {
   "cell_type": "markdown",
   "id": "3b1c6eca",
   "metadata": {},
   "source": [
    "Our model which predicts the chirality of chemical compounds has achieved a validation accuracy of 92% with a log loss of 0.43. \n",
    "\n",
    "The model achieved an average F1-score of 0.76, with individual F1-score of each class as 0.95 for non-chiral class prediction and 0.77 for chiral class prediction."
   ]
  }
 ],
 "metadata": {
  "kernelspec": {
   "display_name": "Python 3 (ipykernel)",
   "language": "python",
   "name": "python3"
  },
  "language_info": {
   "codemirror_mode": {
    "name": "ipython",
    "version": 3
   },
   "file_extension": ".py",
   "mimetype": "text/x-python",
   "name": "python",
   "nbconvert_exporter": "python",
   "pygments_lexer": "ipython3",
   "version": "3.9.12"
  }
 },
 "nbformat": 4,
 "nbformat_minor": 5
}
